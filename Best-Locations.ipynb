{
 "cells": [
  {
   "cell_type": "markdown",
   "metadata": {},
   "source": [
    "# WEB SCRAPING FOR BEST SUMMER SPOTS BY TRIPADVISOR"
   ]
  },
  {
   "cell_type": "markdown",
   "metadata": {},
   "source": [
    "### <font color=\"green\">Travel planning and booking site TripAdvisor recently released its 2017 Summer Vacation Value Report, naming the top 50 U.S. destinations for this summer. Destinations with major increases in hotel booking interest made it to the top of the list, and the average weeklong expense also factored into a destination’s position in the ranking. Nine of the top 10 destinations are by the water, and a grand total of 38 of the 50 destinations are waterfront, either on a lake or on the sea. If you needed a sign to book your beach vacation now, this might be it!</font>"
   ]
  },
  {
   "cell_type": "markdown",
   "metadata": {},
   "source": [
    "### <font color=\"red\">Overview about Selenium and how it is useful!</font>"
   ]
  },
  {
   "cell_type": "markdown",
   "metadata": {},
   "source": [
    "### Selenium is used for scraping the website with Python3. It runs a webkit (Chrome/Safari), gecko (Firefox) or edge (MS Explorer) web browser and executes instructions on it. It supports XPath and CSS selectors. It works over computed DOM and so mimics what one finds in the DOM inspector of a web browser's dev tools. It also supports interaction and AJAX-derived scraping (without having to reverse engineer the AJAX calls). Additionally,  it is more-or-less cross-language API equivalence (i.e. the lessons are more portable)."
   ]
  },
  {
   "cell_type": "markdown",
   "metadata": {},
   "source": [
    "### <font color=\"red\">Project starts here..</font>"
   ]
  },
  {
   "cell_type": "markdown",
   "metadata": {},
   "source": [
    "#### <font color=\"blue\">First things first.. Import statements!</font>"
   ]
  },
  {
   "cell_type": "code",
   "execution_count": 1,
   "metadata": {},
   "outputs": [],
   "source": [
    "from selenium import webdriver\n",
    "import pandas as pd"
   ]
  },
  {
   "cell_type": "markdown",
   "metadata": {},
   "source": [
    "#### <font color=\"blue\">Now, initialize the web driver for Chrome/Firefox. I have used Chrome!</font>"
   ]
  },
  {
   "cell_type": "code",
   "execution_count": 3,
   "metadata": {},
   "outputs": [],
   "source": [
    "# The path should be changed in accordance with your system.\n",
    "pathToChromeDriver = '/Users/SRIRAM VETURI/Desktop/chromedriver_win32/chromedriver.exe'\n",
    "browser = webdriver.Chrome(executable_path=pathToChromeDriver)"
   ]
  },
  {
   "cell_type": "markdown",
   "metadata": {},
   "source": [
    "#### <font color=\"blue\">Selecting the elements by their XPath!</font>"
   ]
  },
  {
   "cell_type": "code",
   "execution_count": 4,
   "metadata": {},
   "outputs": [],
   "source": [
    "# Site to be scraped for data\n",
    "browser.get('https://www.coastalliving.com/travel/top-10/tripadvisor-best-summer-destinations')\n",
    "# For the below line, you double quotes!\n",
    "# Using single quotes would give you some error.\n",
    "locationsList = browser.find_elements_by_xpath(\"//div[@class='padded']/h2/a\")\n",
    "locationsInfo = browser.find_elements_by_xpath(\"//div[@class='padded']/p\")"
   ]
  },
  {
   "cell_type": "markdown",
   "metadata": {},
   "source": [
    "#### <font color=\"blue\">Make some data list initializations!</font>"
   ]
  },
  {
   "cell_type": "code",
   "execution_count": 6,
   "metadata": {},
   "outputs": [],
   "source": [
    "# Three lists to indicate three different types of information.\n",
    "datasetOne = []\n",
    "datasetTwo = []\n",
    "datasetThree = []"
   ]
  },
  {
   "cell_type": "markdown",
   "metadata": {},
   "source": [
    "#### <font color=\"blue\">Now, let's fetch the required information!</font>"
   ]
  },
  {
   "cell_type": "code",
   "execution_count": 7,
   "metadata": {},
   "outputs": [],
   "source": [
    "# Fetching information\n",
    "for loc in locationsList:\n",
    "    entries = (loc.text.encode('ascii', 'replace'), loc.get_attribute('href').encode('ascii', 'replace'))\n",
    "    datasetOne.append(entries)\n",
    "\n",
    "# Fetching information\n",
    "for info in range(4, len(locationsInfo)):\n",
    "    if info > 23:\n",
    "        break\n",
    "    else:\n",
    "        if info % 2 == 0:\n",
    "            information = (locationsInfo[info].text.encode('ascii','replace'))\n",
    "            datasetTwo.append(information)\n",
    "        else:\n",
    "            offer = (locationsInfo[info].text.encode('ascii','ignore'))\n",
    "            datasetThree.append(offer)"
   ]
  },
  {
   "cell_type": "markdown",
   "metadata": {},
   "source": [
    "#### <font color=\"blue\">Now that we have the lists, we can convert them into pandas dataframes as follows..</font>"
   ]
  },
  {
   "cell_type": "code",
   "execution_count": 8,
   "metadata": {},
   "outputs": [],
   "source": [
    "dfOne = pd.DataFrame(datasetOne, columns=['PLACES', 'LINKS FOR MORE INFORMATION'])\n",
    "dfTwo = pd.DataFrame(datasetTwo, columns=['AVERAGE WEEKLY EXPENSE PER PERSON'])\n",
    "dfThree = pd.DataFrame(datasetThree, columns=['BEST DEALS SUGGESTION'])"
   ]
  },
  {
   "cell_type": "markdown",
   "metadata": {},
   "source": [
    "#### <font color=\"blue\">Let's process the \"PLACES\" column!</font>"
   ]
  },
  {
   "cell_type": "code",
   "execution_count": 9,
   "metadata": {},
   "outputs": [],
   "source": [
    "for x in dfOne['PLACES']:\n",
    "    byteStream = str(x)\n",
    "    new_x = byteStream[2:-1]\n",
    "    dfOne.replace(x, new_x, inplace=True)"
   ]
  },
  {
   "cell_type": "markdown",
   "metadata": {},
   "source": [
    "#### <font color=\"blue\">Let's process the \"LINKS FOR MORE INFORMATION\" column!<font>"
   ]
  },
  {
   "cell_type": "code",
   "execution_count": 10,
   "metadata": {},
   "outputs": [],
   "source": [
    "for x in dfOne['LINKS FOR MORE INFORMATION']:\n",
    "    byteStream = str(x)\n",
    "    new_x = byteStream[2:-1]\n",
    "    dfOne.replace(x, new_x, inplace=True)"
   ]
  },
  {
   "cell_type": "markdown",
   "metadata": {},
   "source": [
    "#### <font color=\"blue\">Let's process the \"AVERAGE WEEKLY EXPENSE PER PERSON\" column!</font>"
   ]
  },
  {
   "cell_type": "code",
   "execution_count": 11,
   "metadata": {},
   "outputs": [],
   "source": [
    "for x in dfTwo['AVERAGE WEEKLY EXPENSE PER PERSON']:\n",
    "    byteStream = str(x)\n",
    "    new_x = byteStream[39:-1]\n",
    "    dfTwo.replace(x, new_x, inplace=True)"
   ]
  },
  {
   "cell_type": "markdown",
   "metadata": {},
   "source": [
    "#### <font color=\"blue\">Now, let's split the \"BEST DEALS SUGGESTION\" into two sub dataframes as follows..</font>"
   ]
  },
  {
   "cell_type": "code",
   "execution_count": 13,
   "metadata": {},
   "outputs": [],
   "source": [
    "strToBeDeletedList = []\n",
    "finalByteStreamlist = []\n",
    "bestTime = pd.DataFrame(columns=['BEST TIME TO VISIT'])\n",
    "bestDeal = pd.DataFrame(columns=['BEST SAVINGS DEAL'])"
   ]
  },
  {
   "cell_type": "markdown",
   "metadata": {},
   "source": [
    "#### <font color=\"blue\">Processing and making splitted dataframes for the \"BEST DEALS SUGGESTION\" dataframe!</font>"
   ]
  },
  {
   "cell_type": "code",
   "execution_count": 14,
   "metadata": {},
   "outputs": [],
   "source": [
    "# Processing 'BEST DEALS SUGGESTION' column\n",
    "for x in dfThree['BEST DEALS SUGGESTION']:\n",
    "    byteStream = str(x)\n",
    "    clearedByteStream = byteStream.replace(\"Least expensive summer week to go, and the cost: \", \"\")\n",
    "    ind = clearedByteStream.index('$')\n",
    "    strToBeDeleted = clearedByteStream[ind-2:]\n",
    "    finalByteStream = clearedByteStream.replace(strToBeDeleted, \"\")\n",
    "    bestTimeVisit = strToBeDeleted[2:-1]\n",
    "    strToBeDeletedList.append(bestTimeVisit)\n",
    "    bestDealVisit = finalByteStream[2:]\n",
    "    finalByteStreamlist.append(bestDealVisit)\n",
    "\n",
    "time = pd.Series(strToBeDeletedList)\n",
    "deal = pd.Series(finalByteStreamlist)\n",
    "bestTime['BEST TIME TO VISIT'] = deal.values\n",
    "bestDeal['BEST SAVINGS DEAL'] = time.values"
   ]
  },
  {
   "cell_type": "markdown",
   "metadata": {},
   "source": [
    "#### <font color=\"blue\">Finally, join all the individual dataframes and export it to a 'csv' file as follows..</font>"
   ]
  },
  {
   "cell_type": "code",
   "execution_count": 15,
   "metadata": {},
   "outputs": [],
   "source": [
    "df = pd.DataFrame()\n",
    "df = dfOne.join(dfTwo.join(bestTime.join(bestDeal, lsuffix=bestTime, rsuffix=bestDeal), lsuffix=dfTwo, rsuffix=bestTime), lsuffix=dfOne, rsuffix=dfTwo)\n",
    "df.to_csv('best_locations.csv')"
   ]
  },
  {
   "cell_type": "markdown",
   "metadata": {},
   "source": [
    "### <font color=\"green\">Now, we have a 'csv' file in the same working directory. Go ahead and have a look at the list of top summer spots which is guaranteed to have at least one destination perfect for you. (Spoiler: Most of them are on the coast!). Hope you find yours!!</font>"
   ]
  }
 ],
 "metadata": {
  "kernelspec": {
   "display_name": "Python 3",
   "language": "python",
   "name": "python3"
  },
  "language_info": {
   "codemirror_mode": {
    "name": "ipython",
    "version": 3
   },
   "file_extension": ".py",
   "mimetype": "text/x-python",
   "name": "python",
   "nbconvert_exporter": "python",
   "pygments_lexer": "ipython3",
   "version": "3.6.5"
  }
 },
 "nbformat": 4,
 "nbformat_minor": 2
}
